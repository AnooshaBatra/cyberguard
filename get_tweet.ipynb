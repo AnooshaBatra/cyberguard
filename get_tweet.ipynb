{
 "cells": [
  {
   "cell_type": "code",
   "execution_count": 5,
   "metadata": {},
   "outputs": [
    {
     "name": "stdout",
     "output_type": "stream",
     "text": [
      "done\n"
     ]
    }
   ],
   "source": [
    "import tweepy \n",
    "  \n",
    "# Fill the X's with the credentials obtained by  \n",
    "# following the above mentioned procedure. \n",
    "consumer_key = \"ydHhvBAHcY71IcLs38umdQpfv\" \n",
    "consumer_secret = \"mGDWflKeMJ8LYlzAkMBZe86tp63UCvfV0suzjyNUP55TunhWtt\"\n",
    "access_key = \"1417945135-SA2sGseUmOjASFH6g1BY5dFPj1IGdxXfs4B7s1M\"\n",
    "access_secret = \"U3m0w2Nog8BCWOG2ttHtlRQiHO0hrmcU23oBzeUEgDVha\"\n",
    "\n",
    "  \n",
    "# Function to extract tweets \n",
    "def get_tweets(username): \n",
    "          \n",
    "        # Authorization to consumer key and consumer secret \n",
    "        auth = tweepy.OAuthHandler(consumer_key, consumer_secret) \n",
    "  \n",
    "        # Access to user's access key and access secret \n",
    "        auth.set_access_token(access_key, access_secret) \n",
    "  \n",
    "        # Calling api \n",
    "        api = tweepy.API(auth) \n",
    "  \n",
    "        \n",
    "        tweets = api.user_timeline(screen_name=username) \n",
    "  \n",
    "        # Empty Array \n",
    "        tmp=[]  \n",
    "  \n",
    "        # create array of tweet information: username,  \n",
    "        # tweet id, date/time, text \n",
    "        tweets_for_csv = [tweet.text for tweet in tweets] # CSV file created  \n",
    "        for j in tweets_for_csv: \n",
    "  \n",
    "            # Appending tweets to the empty array tmp \n",
    "            tmp.append(j)  \n",
    "  \n",
    "        # Printing the tweets \n",
    "        print(tmp[0]) \n",
    "  \n",
    "print(\"done\")"
   ]
  },
  {
   "cell_type": "code",
   "execution_count": 6,
   "metadata": {},
   "outputs": [
    {
     "name": "stdout",
     "output_type": "stream",
     "text": [
      "RT @John_houseof308: I have a very huge respect for those who didn’t watch Game of Thrones at all. Not even a single episode. Even with all…\n",
      "fin.\n"
     ]
    }
   ],
   "source": [
    "# Driver code \n",
    "if __name__ == '__main__': \n",
    "  \n",
    "    # Here goes the twitter handle for the user \n",
    "    # whose tweets are to be extracted. \n",
    "    get_tweets(\"mavelloussamad\")\n",
    "    print(\"fin.\")  \n",
    "    "
   ]
  }
 ],
 "metadata": {
  "kernelspec": {
   "display_name": "Python 3",
   "language": "python",
   "name": "python3"
  },
  "language_info": {
   "codemirror_mode": {
    "name": "ipython",
    "version": 3
   },
   "file_extension": ".py",
   "mimetype": "text/x-python",
   "name": "python",
   "nbconvert_exporter": "python",
   "pygments_lexer": "ipython3",
   "version": "3.6.4"
  }
 },
 "nbformat": 4,
 "nbformat_minor": 2
}
