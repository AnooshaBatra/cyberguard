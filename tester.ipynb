{
 "cells": [
  {
   "cell_type": "code",
   "execution_count": 25,
   "metadata": {},
   "outputs": [
    {
     "name": "stdout",
     "output_type": "stream",
     "text": [
      "model loaded\n"
     ]
    },
    {
     "data": {
      "text/plain": [
       "'y_pred = model.predict(x_test)\\nprint(\"prediction done\")\\nfrom sklearn.metrics import classification_report, confusion_matrix, accuracy_score\\n\\nprint(confusion_matrix(y_test,y_pred))  \\nprint(classification_report(y_test,y_pred))  \\nprint(\"Acuracy: \",accuracy_score(y_test, y_pred)*100)\\n'"
      ]
     },
     "execution_count": 25,
     "metadata": {},
     "output_type": "execute_result"
    }
   ],
   "source": [
    "#loding pickle\n",
    "import pickle\n",
    "with open('cyberguard_classifier.pickle', 'rb') as training_model:  \n",
    "    model = pickle.load(training_model)\n",
    "print(\"model loaded\")\n",
    "\n",
    "'''y_pred = model.predict(x_test)\n",
    "print(\"prediction done\")\n",
    "from sklearn.metrics import classification_report, confusion_matrix, accuracy_score\n",
    "\n",
    "print(confusion_matrix(y_test,y_pred))  \n",
    "print(classification_report(y_test,y_pred))  \n",
    "print(\"Acuracy: \",accuracy_score(y_test, y_pred)*100)\n",
    "'''"
   ]
  },
  {
   "cell_type": "code",
   "execution_count": 18,
   "metadata": {},
   "outputs": [
    {
     "name": "stdout",
     "output_type": "stream",
     "text": [
      "vectorizer loaded\n"
     ]
    }
   ],
   "source": [
    "import re, string, nltk\n",
    "from nltk.corpus import stopwords\n",
    "def preprocess(s):\n",
    "    #lower\n",
    "    s=s[0].lower()\n",
    "    #remove numbers\n",
    "    s=re.sub(r'\\d+','',s)\n",
    "    #remove symbols\n",
    "    s=s.translate(str.maketrans('','',string.punctuation))\n",
    "    #removeing single and double characters\n",
    "    s=re.sub(r'\\b[a-zA-Z]\\b',' ',s)\n",
    "    s=re.sub(r'\\b[a-zA-Z][a-zA-Z]\\b',' ',s)\n",
    "    #remove whitespaces\n",
    "    s=re.sub(r'\\s+', ' ', s, flags=re.I)\n",
    "    #Convert www.* or https?://* to URL\n",
    "    s = re.sub('((www\\.[^\\s]+)|(https?://[^\\s]+))','URL',s)\n",
    "    #Convert @username to AT_USER\n",
    "    s = re.sub('@[^\\s]+','AT_USER',s)\n",
    "    #Replace #word with word\n",
    "    s = re.sub(r'#([^\\s]+)', r'\\1', s)\n",
    "    return s\n",
    "    \n",
    "def tokenize(s):\n",
    "    tokenizer = nltk.tokenize.TreebankWordTokenizer()\n",
    "    return tokenizer.tokenize(s)    \n",
    "    \n",
    "def removeStopWords(s):\n",
    "    stop_words = set(stopwords.words('english'))  #nltk file\n",
    "    with open(\"stopwords.txt\") as file:\n",
    "        for line in file:\n",
    "            stop_words1=line.split(\",\")  #opensource\n",
    "    tmp=[]\n",
    "    for i in s:\n",
    "        if (not i in stop_words) and (not i in stop_words1):\n",
    "            tmp.append(i)\n",
    "    return tmp\n",
    "\n",
    "def getlemmatized(s):\n",
    "    lemmatizer= nltk.stem.WordNetLemmatizer()\n",
    "    a=[]\n",
    "    a.append(\" \".join(lemmatizer.lemmatize(word,'n') for word in s))\n",
    "    s=a[0].split()\n",
    "    a=[]\n",
    "    a.append(\" \".join(lemmatizer.lemmatize(word,'v') for word in s))    \n",
    "    return a\n",
    "\n",
    "import pickle\n",
    "with open('vectorizer.pickle', 'rb') as picklefile:  \n",
    "    vectorizer = pickle.load(picklefile)\n",
    "print(\"vectorizer loaded\")\n",
    "            \n",
    "def getVector(s):\n",
    "    from sklearn.feature_extraction.text import TfidfVectorizer  \n",
    "    #tfidfconverter = TfidfVectorizer(max_features=15000, min_df=3, max_df=0.7)\n",
    "    corpus=s\n",
    "    x = vectorizer.transform(corpus)\n",
    "    #feature_names=tfidfconverter.get_feature_names()\n",
    "    feature_vectors=x.toarray()\n",
    "    return x #feature_vectors\n"
   ]
  },
  {
   "cell_type": "code",
   "execution_count": 23,
   "metadata": {},
   "outputs": [
    {
     "name": "stdout",
     "output_type": "stream",
     "text": [
      "Not Bullying\n"
     ]
    }
   ],
   "source": [
    "n=[\"RT @John_houseof308: I have a very huge respect for those who didn’t watch Game of Thrones at all. Not even a single episode. Even with all....\"]\n",
    "#n=[\"you are good\"]\n",
    "preprocessed=preprocess(n)\n",
    "tokenized=tokenize(preprocessed)\n",
    "stopwords_removed=removeStopWords(tokenized)\n",
    "lemmatized=getlemmatized(stopwords_removed)\n",
    "vectorized=getVector(lemmatized)\n",
    "\n",
    "prednew= model.predict(vectorized)\n",
    "if prednew==1:\n",
    "    print(\"Bullying\")\n",
    "elif prednew==0:\n",
    "    print(\"Not Bullying\")\n"
   ]
  },
  {
   "cell_type": "code",
   "execution_count": null,
   "metadata": {},
   "outputs": [],
   "source": []
  }
 ],
 "metadata": {
  "kernelspec": {
   "display_name": "Python 3",
   "language": "python",
   "name": "python3"
  },
  "language_info": {
   "codemirror_mode": {
    "name": "ipython",
    "version": 3
   },
   "file_extension": ".py",
   "mimetype": "text/x-python",
   "name": "python",
   "nbconvert_exporter": "python",
   "pygments_lexer": "ipython3",
   "version": "3.6.4"
  }
 },
 "nbformat": 4,
 "nbformat_minor": 2
}
